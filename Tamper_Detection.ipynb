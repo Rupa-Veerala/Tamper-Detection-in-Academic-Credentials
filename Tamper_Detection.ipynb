{
  "nbformat": 4,
  "nbformat_minor": 0,
  "metadata": {
    "colab": {
      "provenance": []
    },
    "kernelspec": {
      "name": "python3",
      "display_name": "Python 3"
    },
    "language_info": {
      "name": "python"
    }
  },
  "cells": [
    {
      "cell_type": "markdown",
      "source": [
        "**Task** **1**: **Document** **Analysis**"
      ],
      "metadata": {
        "id": "osyzj0tYQA23"
      }
    },
    {
      "cell_type": "markdown",
      "source": [
        "Identify and document common tampering patterns in:\n",
        " - Degree Certificates (PDF metadata changes, fake templates)\n",
        " - Academic Transcripts (grade edits, course list changes)\n",
        " - Professional Certifications (date extensions, level changes)\n"
      ],
      "metadata": {
        "id": "le8lfIPiQXdQ"
      }
    },
    {
      "cell_type": "code",
      "source": [
        "import pandas as pd\n",
        "# Load Excel sheets\n",
        "file_path = \"academic_documents.xlsx\"\n",
        "dc_df = pd.read_excel(file_path, sheet_name=\"Degree_Certificates\")\n",
        "ac_df = pd.read_excel(file_path, sheet_name=\"Academic_transcripts\")\n",
        "pc_df = pd.read_excel(file_path, sheet_name=\"professionals_Certification\")\n",
        "\n",
        "flagged = []"
      ],
      "metadata": {
        "id": "NfdmMbwgO7p_"
      },
      "execution_count": 5,
      "outputs": []
    },
    {
      "cell_type": "code",
      "source": [
        "# Helper function to flag tampering\n",
        "def check_tampering(row, doc_type, fake_templates=[], unknown_editors=['UnknownUser', 'UnknownEditor']):\n",
        "    flags = []\n",
        "    if 'Last Modified' in row and 'Issue Date' in row:\n",
        "        if pd.to_datetime(row['Last Modified']) > pd.to_datetime(row['Issue Date']):\n",
        "            flags.append(\"Modified after issue\")\n",
        "    if 'Editor' in row and row['Editor'] in unknown_editors:\n",
        "        flags.append(\"Unknown editor\")\n",
        "    if 'Template' in row and row['Template'] in fake_templates:\n",
        "        flags.append(\"Fake template/level\")\n",
        "    if 'Certification Level' in row and \"FAKE\" in str(row['Certification Level']).upper():\n",
        "        flags.append(\"Fake template/level\")\n",
        "\n",
        "    if flags:\n",
        "        return {\n",
        "            \"Document ID\": row.get('Document ID') or row.get('Cert ID'),\n",
        "            \"Name\": row[\"Name\"],\n",
        "            \"Flags\": \", \".join(flags),\n",
        "            \"Document Type\": doc_type\n",
        "        }"
      ],
      "metadata": {
        "id": "nd1owwNGO7VM"
      },
      "execution_count": 7,
      "outputs": []
    },
    {
      "cell_type": "code",
      "source": [
        "# Process each sheet\n",
        "for _, row in dc_df.iterrows():\n",
        "    result = check_tampering(row, \"Degree Certificate\", fake_templates=[\"DEG-FAKE\"])\n",
        "    if result: flagged.append(result)\n",
        "\n",
        "for _, row in ac_df.iterrows():\n",
        "    result = check_tampering(row, \"Academic Transcript\", fake_templates=[\"TRN-FAKE\"])\n",
        "    if result: flagged.append(result)\n",
        "\n",
        "for _, row in pc_df.iterrows():\n",
        "    result = check_tampering(row, \"Professional Certification\", fake_templates=[\"FAKE-LVL\"])\n",
        "    if result: flagged.append(result)"
      ],
      "metadata": {
        "id": "MxzvhLKqPzdf"
      },
      "execution_count": 8,
      "outputs": []
    },
    {
      "cell_type": "code",
      "source": [
        "# Create output DataFrame\n",
        "flagged_df = pd.DataFrame(flagged)"
      ],
      "metadata": {
        "id": "u001IxU8PzaL"
      },
      "execution_count": 9,
      "outputs": []
    },
    {
      "cell_type": "code",
      "source": [
        "# Save to Excel file\n",
        "output_file = \"flagged_documents.xlsx\"\n",
        "flagged_df.to_excel(output_file, index=False)\n",
        "\n",
        "print(f\"Tampering detection completed. Output saved to '{output_file}'\")\n"
      ],
      "metadata": {
        "colab": {
          "base_uri": "https://localhost:8080/"
        },
        "id": "gmnfBDWD1fqq",
        "outputId": "78ee5186-b5fe-4865-cc31-6fbbbc17e3c8"
      },
      "execution_count": 10,
      "outputs": [
        {
          "output_type": "stream",
          "name": "stdout",
          "text": [
            "Tampering detection completed. Output saved to 'flagged_documents.xlsx'\n"
          ]
        }
      ]
    },
    {
      "cell_type": "code",
      "source": [
        "# Load the Excel file with 3 sheets\n",
        "file_path = 'academic_documents.xlsx'\n",
        "xls = pd.ExcelFile(file_path)"
      ],
      "metadata": {
        "id": "0UMw4zIBQbsx"
      },
      "execution_count": 11,
      "outputs": []
    },
    {
      "cell_type": "code",
      "source": [
        "# Define authorized editors and valid templates/levels\n",
        "authorized_editors = ['Registrar', 'UniversityAdmin', 'AdminUser', 'CertifyingOfficer']\n",
        "valid_degree_templates = ['DEG-T1', 'DEG-T2']\n",
        "valid_transcript_templates = ['TRN-T1', 'TRN-T2', 'TRN-T3']\n",
        "valid_cert_levels = ['CERT-L1', 'CERT-L2', 'CERT-L3']"
      ],
      "metadata": {
        "id": "GNi1ntwdQbic"
      },
      "execution_count": 12,
      "outputs": []
    },
    {
      "cell_type": "code",
      "source": [
        "def analyze_sheet(df, doc_type):\n",
        "    suspicious = []\n",
        "    for _, row in df.iterrows():\n",
        "        flags = []\n",
        "        issue_date = pd.to_datetime(row['Issue Date'])\n",
        "        modified_date = pd.to_datetime(row['Last Modified']) if 'Last Modified' in row else None\n",
        "        editor = row['Editor']\n",
        "\n",
        "        # Metadata mismatch\n",
        "        if modified_date and modified_date > issue_date:\n",
        "            flags.append(\"Late modification\")\n",
        "\n",
        "        if editor not in authorized_editors:\n",
        "            flags.append(\"Unauthorized editor\")\n",
        "\n",
        "        # Type-specific tampering\n",
        "        if doc_type == \"Degree\":\n",
        "            if row['Template'] not in valid_degree_templates:\n",
        "                flags.append(\"Fake template\")\n",
        "        elif doc_type == \"Transcript\":\n",
        "            if row['Template'] not in valid_transcript_templates:\n",
        "                flags.append(\"Fake transcript template\")\n",
        "        elif doc_type == \"Professional\":\n",
        "            if row['Certification Level'] not in valid_cert_levels:\n",
        "                flags.append(\"Invalid certification level\")\n",
        "\n",
        "        if flags:\n",
        "            suspicious.append({\n",
        "                'Document ID': row.get('Document ID', row.get('Cert ID')),\n",
        "                'Name': row['Name'],\n",
        "                'Flags': \", \".join(flags)\n",
        "            })\n",
        "    return suspicious"
      ],
      "metadata": {
        "id": "kuPRKNCwQh_a"
      },
      "execution_count": 13,
      "outputs": []
    },
    {
      "cell_type": "code",
      "source": [
        "# Analyze each sheet\n",
        "degree_df = pd.read_excel(xls, sheet_name='Degree_Certificates')\n",
        "transcript_df = pd.read_excel(xls, sheet_name='Academic_transcripts')\n",
        "cert_df = pd.read_excel(xls, sheet_name='professionals_Certification')\n",
        "\n",
        "suspicious_degree = analyze_sheet(degree_df, \"Degree\")\n",
        "suspicious_transcript = analyze_sheet(transcript_df, \"Transcript\")\n",
        "suspicious_cert = analyze_sheet(cert_df, \"Professional\")\n"
      ],
      "metadata": {
        "id": "nLnliKVLQnBt"
      },
      "execution_count": 14,
      "outputs": []
    },
    {
      "cell_type": "code",
      "source": [
        "# Combine all suspicious entries\n",
        "all_suspicious = pd.DataFrame(suspicious_degree + suspicious_transcript + suspicious_cert)"
      ],
      "metadata": {
        "id": "tLNnDZfNQm82"
      },
      "execution_count": 15,
      "outputs": []
    },
    {
      "cell_type": "code",
      "source": [
        "# Save output\n",
        "all_suspicious.to_excel(\"suspicious_documents_report.xlsx\", index=False)\n",
        "\n",
        "print(\"Analysis complete. Suspicious entries saved to suspicious_documents_report.xlsx\")\n"
      ],
      "metadata": {
        "colab": {
          "base_uri": "https://localhost:8080/"
        },
        "id": "TiQ2PSP66iVO",
        "outputId": "2b525ad7-1ed4-487b-fea7-f4b145ce8d94"
      },
      "execution_count": 16,
      "outputs": [
        {
          "output_type": "stream",
          "name": "stdout",
          "text": [
            "Analysis complete. Suspicious entries saved to suspicious_documents_report.xlsx\n"
          ]
        }
      ]
    },
    {
      "cell_type": "code",
      "source": [
        "pip install pandas fpdf PyPDF2 openpyxl\n"
      ],
      "metadata": {
        "colab": {
          "base_uri": "https://localhost:8080/"
        },
        "id": "mjwacKt83jxM",
        "outputId": "030ee588-33c4-4e01-fea5-a02a0269bd6d"
      },
      "execution_count": null,
      "outputs": [
        {
          "output_type": "stream",
          "name": "stdout",
          "text": [
            "Requirement already satisfied: pandas in /usr/local/lib/python3.11/dist-packages (2.2.2)\n",
            "Collecting fpdf\n",
            "  Downloading fpdf-1.7.2.tar.gz (39 kB)\n",
            "  Preparing metadata (setup.py) ... \u001b[?25l\u001b[?25hdone\n",
            "Collecting PyPDF2\n",
            "  Downloading pypdf2-3.0.1-py3-none-any.whl.metadata (6.8 kB)\n",
            "Requirement already satisfied: openpyxl in /usr/local/lib/python3.11/dist-packages (3.1.5)\n",
            "Requirement already satisfied: numpy>=1.23.2 in /usr/local/lib/python3.11/dist-packages (from pandas) (2.0.2)\n",
            "Requirement already satisfied: python-dateutil>=2.8.2 in /usr/local/lib/python3.11/dist-packages (from pandas) (2.9.0.post0)\n",
            "Requirement already satisfied: pytz>=2020.1 in /usr/local/lib/python3.11/dist-packages (from pandas) (2025.2)\n",
            "Requirement already satisfied: tzdata>=2022.7 in /usr/local/lib/python3.11/dist-packages (from pandas) (2025.2)\n",
            "Requirement already satisfied: et-xmlfile in /usr/local/lib/python3.11/dist-packages (from openpyxl) (2.0.0)\n",
            "Requirement already satisfied: six>=1.5 in /usr/local/lib/python3.11/dist-packages (from python-dateutil>=2.8.2->pandas) (1.17.0)\n",
            "Downloading pypdf2-3.0.1-py3-none-any.whl (232 kB)\n",
            "\u001b[2K   \u001b[90m━━━━━━━━━━━━━━━━━━━━━━━━━━━━━━━━━━━━━━━━\u001b[0m \u001b[32m232.6/232.6 kB\u001b[0m \u001b[31m5.6 MB/s\u001b[0m eta \u001b[36m0:00:00\u001b[0m\n",
            "\u001b[?25hBuilding wheels for collected packages: fpdf\n",
            "  Building wheel for fpdf (setup.py) ... \u001b[?25l\u001b[?25hdone\n",
            "  Created wheel for fpdf: filename=fpdf-1.7.2-py2.py3-none-any.whl size=40704 sha256=630afaeb28518da68c56cfff052f4e942fc21ba1f79f544e8aaf7daea32af965\n",
            "  Stored in directory: /root/.cache/pip/wheels/65/4f/66/bbda9866da446a72e206d6484cd97381cbc7859a7068541c36\n",
            "Successfully built fpdf\n",
            "Installing collected packages: fpdf, PyPDF2\n",
            "Successfully installed PyPDF2-3.0.1 fpdf-1.7.2\n"
          ]
        }
      ]
    },
    {
      "cell_type": "markdown",
      "source": [
        "**Task** **2**: **Prototype** **Development**"
      ],
      "metadata": {
        "id": "TF_Jf7uUQ3jY"
      }
    },
    {
      "cell_type": "markdown",
      "source": [
        "Develop a lightweight script or prototype that demonstrates:\n",
        " - PDF Metadata Analysis – Detect discrepancies like issue date mismatch, edited metadata, etc.\n"
      ],
      "metadata": {
        "id": "K_ASGqOoQ8Ha"
      }
    },
    {
      "cell_type": "code",
      "source": [
        "import pandas as pd\n",
        "from fpdf import FPDF\n",
        "from PyPDF2 import PdfReader, PdfWriter\n",
        "import os\n",
        "\n",
        "# Load Excel file\n",
        "df = pd.read_excel(\"academic_documents.xlsx\", sheet_name=\"Degree_Certificates\")\n",
        "\n",
        "# Output folder\n",
        "os.makedirs(\"generated_pdfs\", exist_ok=True)\n",
        "\n",
        "# Create PDF + metadata\n",
        "def create_pdf_with_metadata(row, file_path):\n",
        "    pdf = FPDF()\n",
        "    pdf.add_page()\n",
        "    pdf.set_font(\"Arial\", size=12)\n",
        "    pdf.cell(200, 10, txt=f\"Degree Certificate\", ln=True, align='C')\n",
        "    pdf.cell(200, 10, txt=f\"Name: {row['Name']}\", ln=True)\n",
        "    pdf.cell(200, 10, txt=f\"Document ID: {row['Document ID']}\", ln=True)\n",
        "    pdf.output(file_path)\n",
        "\n",
        "    # Add metadata using PyPDF2\n",
        "    reader = PdfReader(file_path)\n",
        "    writer = PdfWriter()\n",
        "    writer.append_pages_from_reader(reader)\n",
        "    metadata = {\n",
        "        \"/Author\": row['Editor'],\n",
        "        \"/CreationDate\": f\"D:{pd.to_datetime(row['Issue Date']).strftime('%Y%m%d%H%M%S')}\",\n",
        "        \"/ModDate\": f\"D:{pd.to_datetime(row['Last Modified']).strftime('%Y%m%d%H%M%S')}\",\n",
        "        \"/Title\": row.get('Template', 'DEG-T1')\n",
        "    }\n",
        "    writer.add_metadata(metadata)\n",
        "    with open(file_path, \"wb\") as f:\n",
        "        writer.write(f)\n"
      ],
      "metadata": {
        "id": "cZiEne5MRM_9"
      },
      "execution_count": 32,
      "outputs": []
    },
    {
      "cell_type": "code",
      "source": [
        "# Generate PDFs\n",
        "for idx, row in df.iterrows():\n",
        "    filename = f\"generated_pdfs/{row['Document ID']}.pdf\"\n",
        "    create_pdf_with_metadata(row, filename)\n",
        "\n",
        "print(\"PDFs created with metadata.\")"
      ],
      "metadata": {
        "colab": {
          "base_uri": "https://localhost:8080/"
        },
        "id": "_OgyeSkE3dYa",
        "outputId": "c11e08ac-370f-40b6-e2dd-96f881ec53ce"
      },
      "execution_count": 34,
      "outputs": [
        {
          "output_type": "stream",
          "name": "stdout",
          "text": [
            "PDFs created with metadata.\n"
          ]
        }
      ]
    },
    {
      "cell_type": "code",
      "source": [
        "from PyPDF2 import PdfReader\n",
        "\n",
        "valid_editors = ['Registrar', 'UniversityAdmin', 'AdminUser', 'CertifyingOfficer']\n",
        "valid_templates = ['DEG-T1', 'DEG-T2']\n",
        "\n",
        "flagged = []\n",
        "\n",
        "for pdf_file in os.listdir(\"generated_pdfs\"):\n",
        "    path = os.path.join(\"generated_pdfs\", pdf_file)\n",
        "    reader = PdfReader(path)\n",
        "    info = reader.metadata\n",
        "\n",
        "    flags = []\n",
        "    name = pdf_file.replace(\".pdf\", \"\")\n",
        "\n",
        "    # Check metadata\n",
        "    creation = info.get('/CreationDate', '').replace(\"D:\", \"\")\n",
        "    mod = info.get('/ModDate', '').replace(\"D:\", \"\")\n",
        "    author = info.get('/Author', '')\n",
        "    template = info.get('/Title', '')\n",
        "\n",
        "    try:\n",
        "        creation_date = pd.to_datetime(creation, format='%Y%m%d%H%M%S')\n",
        "        mod_date = pd.to_datetime(mod, format='%Y%m%d%H%M%S')\n",
        "        if mod_date > creation_date:\n",
        "            flags.append(\"Modified after issue\")\n",
        "    except:\n",
        "        flags.append(\"Date parse error\")\n",
        "\n",
        "    if author not in valid_editors:\n",
        "        flags.append(\"Unauthorized editor\")\n",
        "\n",
        "    if template not in valid_templates:\n",
        "        flags.append(\"Invalid template\")\n",
        "\n",
        "    if flags:\n",
        "        flagged.append({\n",
        "            \"Document ID\": name,\n",
        "            \"Editor\": author,\n",
        "            \"Template\": template,\n",
        "            \"Flags\": \", \".join(flags)\n",
        "        })"
      ],
      "metadata": {
        "id": "mDu4c-0l3vRf"
      },
      "execution_count": 35,
      "outputs": []
    },
    {
      "cell_type": "code",
      "source": [
        "# Save results\n",
        "flagged_df = pd.DataFrame(flagged)\n",
        "flagged_df.to_excel(\"tampered_pdf_report.xlsx\", index=False)\n",
        "print(\"Tampering report saved to 'tampered_pdf_report.xlsx'\")\n"
      ],
      "metadata": {
        "colab": {
          "base_uri": "https://localhost:8080/"
        },
        "id": "DK13vxY1SSqN",
        "outputId": "ecc1ac82-f74f-4949-f0c3-c6f7c1d23e7e"
      },
      "execution_count": 36,
      "outputs": [
        {
          "output_type": "stream",
          "name": "stdout",
          "text": [
            "Tampering report saved to 'tampered_pdf_report.xlsx'\n"
          ]
        }
      ]
    }
  ]
}